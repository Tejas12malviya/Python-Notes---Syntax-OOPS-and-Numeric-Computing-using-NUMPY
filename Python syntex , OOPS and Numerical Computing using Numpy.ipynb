{
 "cells": [
  {
   "cell_type": "code",
   "execution_count": 1,
   "id": "83800864",
   "metadata": {},
   "outputs": [
    {
     "data": {
      "text/plain": [
       "10"
      ]
     },
     "execution_count": 1,
     "metadata": {},
     "output_type": "execute_result"
    }
   ],
   "source": [
    "5+5"
   ]
  },
  {
   "cell_type": "code",
   "execution_count": 2,
   "id": "74a0d101",
   "metadata": {},
   "outputs": [
    {
     "name": "stdout",
     "output_type": "stream",
     "text": [
      "This is good\n"
     ]
    }
   ],
   "source": [
    "print(\"This is good\")\n"
   ]
  },
  {
   "cell_type": "code",
   "execution_count": 3,
   "id": "0a654982",
   "metadata": {},
   "outputs": [
    {
     "data": {
      "text/plain": [
       "10"
      ]
     },
     "execution_count": 3,
     "metadata": {},
     "output_type": "execute_result"
    }
   ],
   "source": [
    "5+5\n"
   ]
  },
  {
   "cell_type": "code",
   "execution_count": 6,
   "id": "4f06883e",
   "metadata": {},
   "outputs": [
    {
     "data": {
      "text/plain": [
       "['I Like ', 'pples , m', 'ngoes , b', 'n', 'n', 's , pine', 'pple']"
      ]
     },
     "execution_count": 6,
     "metadata": {},
     "output_type": "execute_result"
    }
   ],
   "source": [
    "str1=\"I Like apples , mangoes , bananas , pineapple\"\n",
    "str1.split('a')"
   ]
  },
  {
   "cell_type": "code",
   "execution_count": 5,
   "id": "9e35f245",
   "metadata": {},
   "outputs": [
    {
     "data": {
      "text/plain": [
       "16"
      ]
     },
     "execution_count": 5,
     "metadata": {},
     "output_type": "execute_result"
    }
   ],
   "source": [
    "str1.find('man')"
   ]
  },
  {
   "cell_type": "code",
   "execution_count": 7,
   "id": "0038f333",
   "metadata": {},
   "outputs": [
    {
     "data": {
      "text/plain": [
       "(1, 'a', True, 3.14, (5+7j))"
      ]
     },
     "execution_count": 7,
     "metadata": {},
     "output_type": "execute_result"
    }
   ],
   "source": [
    "tup1 = (1,'a',True,3.14,5+7j)\n",
    "tup1"
   ]
  },
  {
   "cell_type": "code",
   "execution_count": 8,
   "id": "74b89da4",
   "metadata": {},
   "outputs": [
    {
     "data": {
      "text/plain": [
       "tuple"
      ]
     },
     "execution_count": 8,
     "metadata": {},
     "output_type": "execute_result"
    }
   ],
   "source": [
    "type(tup1)"
   ]
  },
  {
   "cell_type": "code",
   "execution_count": 12,
   "id": "e3e70f96",
   "metadata": {},
   "outputs": [
    {
     "data": {
      "text/plain": [
       "(1, 'a', True, 3.14)"
      ]
     },
     "execution_count": 12,
     "metadata": {},
     "output_type": "execute_result"
    }
   ],
   "source": [
    "tup1[0]\n",
    "\n",
    "tup1[0:4]"
   ]
  },
  {
   "cell_type": "code",
   "execution_count": 13,
   "id": "af0dd3df",
   "metadata": {},
   "outputs": [
    {
     "data": {
      "text/plain": [
       "(5+7j)"
      ]
     },
     "execution_count": 13,
     "metadata": {},
     "output_type": "execute_result"
    }
   ],
   "source": [
    "tup1[-1]"
   ]
  },
  {
   "cell_type": "code",
   "execution_count": 15,
   "id": "1c392a70",
   "metadata": {},
   "outputs": [
    {
     "ename": "TypeError",
     "evalue": "'tuple' object does not support item assignment",
     "output_type": "error",
     "traceback": [
      "\u001b[1;31m---------------------------------------------------------------------------\u001b[0m",
      "\u001b[1;31mTypeError\u001b[0m                                 Traceback (most recent call last)",
      "\u001b[1;32m~\\AppData\\Local\\Temp/ipykernel_14604/3420798875.py\u001b[0m in \u001b[0;36m<module>\u001b[1;34m\u001b[0m\n\u001b[1;32m----> 1\u001b[1;33m \u001b[0mtup1\u001b[0m\u001b[1;33m[\u001b[0m\u001b[1;36m2\u001b[0m\u001b[1;33m]\u001b[0m\u001b[1;33m=\u001b[0m\u001b[1;34m\"hello\"\u001b[0m\u001b[1;33m\u001b[0m\u001b[1;33m\u001b[0m\u001b[0m\n\u001b[0m",
      "\u001b[1;31mTypeError\u001b[0m: 'tuple' object does not support item assignment"
     ]
    }
   ],
   "source": [
    "tup1[2]=\"hello\""
   ]
  },
  {
   "cell_type": "code",
   "execution_count": 16,
   "id": "73349de2",
   "metadata": {},
   "outputs": [
    {
     "data": {
      "text/plain": [
       "5"
      ]
     },
     "execution_count": 16,
     "metadata": {},
     "output_type": "execute_result"
    }
   ],
   "source": [
    "len(tup1)"
   ]
  },
  {
   "cell_type": "code",
   "execution_count": 17,
   "id": "745ed8fa",
   "metadata": {},
   "outputs": [
    {
     "data": {
      "text/plain": [
       "(1, 'a', True, 3.14, (5+7j), 23, False, 'hello', 3.3333, (3+9j))"
      ]
     },
     "execution_count": 17,
     "metadata": {},
     "output_type": "execute_result"
    }
   ],
   "source": [
    "tup2=(23,False,\"hello\",3.3333,3+9j)\n",
    "tup1+tup2"
   ]
  },
  {
   "cell_type": "code",
   "execution_count": 18,
   "id": "d6a89a33",
   "metadata": {},
   "outputs": [
    {
     "data": {
      "text/plain": [
       "(1,\n",
       " 'a',\n",
       " True,\n",
       " 3.14,\n",
       " (5+7j),\n",
       " 1,\n",
       " 'a',\n",
       " True,\n",
       " 3.14,\n",
       " (5+7j),\n",
       " 1,\n",
       " 'a',\n",
       " True,\n",
       " 3.14,\n",
       " (5+7j),\n",
       " 23,\n",
       " False,\n",
       " 'hello',\n",
       " 3.3333,\n",
       " (3+9j),\n",
       " 23,\n",
       " False,\n",
       " 'hello',\n",
       " 3.3333,\n",
       " (3+9j),\n",
       " 23,\n",
       " False,\n",
       " 'hello',\n",
       " 3.3333,\n",
       " (3+9j),\n",
       " 23,\n",
       " False,\n",
       " 'hello',\n",
       " 3.3333,\n",
       " (3+9j),\n",
       " 23,\n",
       " False,\n",
       " 'hello',\n",
       " 3.3333,\n",
       " (3+9j))"
      ]
     },
     "execution_count": 18,
     "metadata": {},
     "output_type": "execute_result"
    }
   ],
   "source": [
    "tup1*3+tup2*5"
   ]
  },
  {
   "cell_type": "code",
   "execution_count": 19,
   "id": "60e98465",
   "metadata": {},
   "outputs": [
    {
     "data": {
      "text/plain": [
       "7"
      ]
     },
     "execution_count": 19,
     "metadata": {},
     "output_type": "execute_result"
    }
   ],
   "source": [
    "tup3=(0,2,4,1,7,4,6)\n",
    "max(tup3)"
   ]
  },
  {
   "cell_type": "code",
   "execution_count": 20,
   "id": "b7555796",
   "metadata": {},
   "outputs": [
    {
     "data": {
      "text/plain": [
       "0"
      ]
     },
     "execution_count": 20,
     "metadata": {},
     "output_type": "execute_result"
    }
   ],
   "source": [
    "min(tup3)"
   ]
  },
  {
   "cell_type": "code",
   "execution_count": 21,
   "id": "f46fcc96",
   "metadata": {},
   "outputs": [
    {
     "data": {
      "text/plain": [
       "[3, True, 'Hi', (5+6j)]"
      ]
     },
     "execution_count": 21,
     "metadata": {},
     "output_type": "execute_result"
    }
   ],
   "source": [
    "l1=[3,True,'Hi',5+6j]\n",
    "l1"
   ]
  },
  {
   "cell_type": "code",
   "execution_count": 22,
   "id": "a0824748",
   "metadata": {},
   "outputs": [
    {
     "data": {
      "text/plain": [
       "3"
      ]
     },
     "execution_count": 22,
     "metadata": {},
     "output_type": "execute_result"
    }
   ],
   "source": [
    "l1[0]"
   ]
  },
  {
   "cell_type": "code",
   "execution_count": 23,
   "id": "1e0c67db",
   "metadata": {},
   "outputs": [
    {
     "data": {
      "text/plain": [
       "[True, 'Hi']"
      ]
     },
     "execution_count": 23,
     "metadata": {},
     "output_type": "execute_result"
    }
   ],
   "source": [
    "l1[1:3]"
   ]
  },
  {
   "cell_type": "code",
   "execution_count": 24,
   "id": "9d63e313",
   "metadata": {},
   "outputs": [
    {
     "data": {
      "text/plain": [
       "'Hi'"
      ]
     },
     "execution_count": 24,
     "metadata": {},
     "output_type": "execute_result"
    }
   ],
   "source": [
    "l1[-2]"
   ]
  },
  {
   "cell_type": "code",
   "execution_count": 25,
   "id": "68170fa3",
   "metadata": {},
   "outputs": [],
   "source": [
    "l1[0]=100"
   ]
  },
  {
   "cell_type": "code",
   "execution_count": 26,
   "id": "41dc1c1c",
   "metadata": {},
   "outputs": [
    {
     "data": {
      "text/plain": [
       "[100, True, 'Hi', (5+6j)]"
      ]
     },
     "execution_count": 26,
     "metadata": {},
     "output_type": "execute_result"
    }
   ],
   "source": [
    "l1"
   ]
  },
  {
   "cell_type": "code",
   "execution_count": 27,
   "id": "057decfa",
   "metadata": {},
   "outputs": [],
   "source": [
    "l1.append(\"Spend\")"
   ]
  },
  {
   "cell_type": "code",
   "execution_count": 28,
   "id": "b3e330b5",
   "metadata": {},
   "outputs": [
    {
     "data": {
      "text/plain": [
       "[100, True, 'Hi', (5+6j), 'Spend']"
      ]
     },
     "execution_count": 28,
     "metadata": {},
     "output_type": "execute_result"
    }
   ],
   "source": [
    "l1"
   ]
  },
  {
   "cell_type": "code",
   "execution_count": 30,
   "id": "451954e4",
   "metadata": {},
   "outputs": [
    {
     "data": {
      "text/plain": [
       "'Spend'"
      ]
     },
     "execution_count": 30,
     "metadata": {},
     "output_type": "execute_result"
    }
   ],
   "source": [
    "l1.pop()"
   ]
  },
  {
   "cell_type": "code",
   "execution_count": 31,
   "id": "08c846de",
   "metadata": {},
   "outputs": [
    {
     "data": {
      "text/plain": [
       "[100, True, 'Hi', (5+6j)]"
      ]
     },
     "execution_count": 31,
     "metadata": {},
     "output_type": "execute_result"
    }
   ],
   "source": [
    "l1"
   ]
  },
  {
   "cell_type": "code",
   "execution_count": 32,
   "id": "398bbef1",
   "metadata": {},
   "outputs": [],
   "source": [
    "l1.reverse()"
   ]
  },
  {
   "cell_type": "code",
   "execution_count": 34,
   "id": "366ce467",
   "metadata": {},
   "outputs": [
    {
     "data": {
      "text/plain": [
       "[(5+6j), 'Hi', True, 100]"
      ]
     },
     "execution_count": 34,
     "metadata": {},
     "output_type": "execute_result"
    }
   ],
   "source": [
    "l1\n"
   ]
  },
  {
   "cell_type": "code",
   "execution_count": 37,
   "id": "916dea2b",
   "metadata": {},
   "outputs": [],
   "source": [
    "l1.insert(1,\"jaa\")"
   ]
  },
  {
   "cell_type": "code",
   "execution_count": 38,
   "id": "eaf41f37",
   "metadata": {},
   "outputs": [
    {
     "data": {
      "text/plain": [
       "[(5+6j), 'jaa', 'HI', 'Hi', True, 100]"
      ]
     },
     "execution_count": 38,
     "metadata": {},
     "output_type": "execute_result"
    }
   ],
   "source": [
    "l1"
   ]
  },
  {
   "cell_type": "code",
   "execution_count": 39,
   "id": "9dbb0f72",
   "metadata": {},
   "outputs": [],
   "source": [
    "l2=['guava','apple','banana','mango']"
   ]
  },
  {
   "cell_type": "code",
   "execution_count": 40,
   "id": "0531f931",
   "metadata": {},
   "outputs": [],
   "source": [
    "l2.sort()"
   ]
  },
  {
   "cell_type": "code",
   "execution_count": 41,
   "id": "6fb9bd34",
   "metadata": {},
   "outputs": [
    {
     "data": {
      "text/plain": [
       "['apple', 'banana', 'guava', 'mango']"
      ]
     },
     "execution_count": 41,
     "metadata": {},
     "output_type": "execute_result"
    }
   ],
   "source": [
    "l2"
   ]
  },
  {
   "cell_type": "code",
   "execution_count": 42,
   "id": "f4d93d8c",
   "metadata": {},
   "outputs": [
    {
     "data": {
      "text/plain": [
       "[(5+6j), 'jaa', 'HI', 'Hi', True, 100, 'apple', 'banana', 'guava', 'mango']"
      ]
     },
     "execution_count": 42,
     "metadata": {},
     "output_type": "execute_result"
    }
   ],
   "source": [
    "l1+l2"
   ]
  },
  {
   "cell_type": "code",
   "execution_count": 43,
   "id": "6fc20490",
   "metadata": {},
   "outputs": [
    {
     "data": {
      "text/plain": [
       "[(5+6j), 'jaa', 'HI', 'Hi', True, 100, (5+6j), 'jaa', 'HI', 'Hi', True, 100]"
      ]
     },
     "execution_count": 43,
     "metadata": {},
     "output_type": "execute_result"
    }
   ],
   "source": [
    "l1*2"
   ]
  },
  {
   "cell_type": "code",
   "execution_count": 44,
   "id": "d4bf051b",
   "metadata": {},
   "outputs": [
    {
     "data": {
      "text/plain": [
       "{'Mango': 50, 'Apple': 40, 'Gauva': 60, 'Banana': 30}"
      ]
     },
     "execution_count": 44,
     "metadata": {},
     "output_type": "execute_result"
    }
   ],
   "source": [
    "d1={'Mango':50,'Apple':40,'Gauva':60,'Banana':30}\n",
    "d1"
   ]
  },
  {
   "cell_type": "code",
   "execution_count": 45,
   "id": "5c1c4f3a",
   "metadata": {},
   "outputs": [
    {
     "data": {
      "text/plain": [
       "dict"
      ]
     },
     "execution_count": 45,
     "metadata": {},
     "output_type": "execute_result"
    }
   ],
   "source": [
    "type(d1)"
   ]
  },
  {
   "cell_type": "code",
   "execution_count": 46,
   "id": "bcdebdef",
   "metadata": {},
   "outputs": [
    {
     "data": {
      "text/plain": [
       "dict_keys(['Mango', 'Apple', 'Gauva', 'Banana'])"
      ]
     },
     "execution_count": 46,
     "metadata": {},
     "output_type": "execute_result"
    }
   ],
   "source": [
    "d1.keys()"
   ]
  },
  {
   "cell_type": "code",
   "execution_count": 47,
   "id": "f5390335",
   "metadata": {},
   "outputs": [
    {
     "data": {
      "text/plain": [
       "dict_values([50, 40, 60, 30])"
      ]
     },
     "execution_count": 47,
     "metadata": {},
     "output_type": "execute_result"
    }
   ],
   "source": [
    "d1.values()"
   ]
  },
  {
   "cell_type": "code",
   "execution_count": 48,
   "id": "ab9ee463",
   "metadata": {},
   "outputs": [
    {
     "data": {
      "text/plain": [
       "{'Mango': 50, 'Apple': 40, 'Gauva': 60, 'Banana': 30, 'Orange': 70}"
      ]
     },
     "execution_count": 48,
     "metadata": {},
     "output_type": "execute_result"
    }
   ],
   "source": [
    "d1['Orange']=70\n",
    "d1"
   ]
  },
  {
   "cell_type": "code",
   "execution_count": 52,
   "id": "824a9f2c",
   "metadata": {},
   "outputs": [],
   "source": [
    "d1['Banana']=45\n"
   ]
  },
  {
   "cell_type": "code",
   "execution_count": 53,
   "id": "7c25ee3c",
   "metadata": {},
   "outputs": [
    {
     "data": {
      "text/plain": [
       "{'Mango': 50,\n",
       " 'Apple': 40,\n",
       " 'Gauva': 60,\n",
       " 'Banana': 45,\n",
       " 'Orange': 70,\n",
       " 'banana': 45}"
      ]
     },
     "execution_count": 53,
     "metadata": {},
     "output_type": "execute_result"
    }
   ],
   "source": [
    "d1"
   ]
  },
  {
   "cell_type": "code",
   "execution_count": 54,
   "id": "f510bdd6",
   "metadata": {},
   "outputs": [
    {
     "data": {
      "text/plain": [
       "45"
      ]
     },
     "execution_count": 54,
     "metadata": {},
     "output_type": "execute_result"
    }
   ],
   "source": [
    "d1.pop('banana')"
   ]
  },
  {
   "cell_type": "code",
   "execution_count": 55,
   "id": "01f265ce",
   "metadata": {},
   "outputs": [
    {
     "data": {
      "text/plain": [
       "{'Mango': 50, 'Apple': 40, 'Gauva': 60, 'Banana': 45, 'Orange': 70}"
      ]
     },
     "execution_count": 55,
     "metadata": {},
     "output_type": "execute_result"
    }
   ],
   "source": [
    "d1"
   ]
  },
  {
   "cell_type": "code",
   "execution_count": 58,
   "id": "a4f7da3f",
   "metadata": {},
   "outputs": [
    {
     "data": {
      "text/plain": [
       "{'Mango': 50,\n",
       " 'Apple': 40,\n",
       " 'Gauva': 60,\n",
       " 'Banana': 45,\n",
       " 'Orange': 70,\n",
       " 'Strawberry': 90,\n",
       " 'Grapes': 65,\n",
       " 'Papaya': 50}"
      ]
     },
     "execution_count": 58,
     "metadata": {},
     "output_type": "execute_result"
    }
   ],
   "source": [
    "d2={'Strawberry':90,'Grapes':65,'Papaya':50}\n",
    "d1.update(d2)\n",
    "d1"
   ]
  },
  {
   "cell_type": "code",
   "execution_count": 61,
   "id": "fdda5af0",
   "metadata": {},
   "outputs": [
    {
     "data": {
      "text/plain": [
       "{1, 3.14, 'Spark'}"
      ]
     },
     "execution_count": 61,
     "metadata": {},
     "output_type": "execute_result"
    }
   ],
   "source": [
    "s1={1,3.14,'Spark',True,3.14,1,3.14}\n",
    "s1"
   ]
  },
  {
   "cell_type": "code",
   "execution_count": 60,
   "id": "526f1c19",
   "metadata": {},
   "outputs": [
    {
     "data": {
      "text/plain": [
       "set"
      ]
     },
     "execution_count": 60,
     "metadata": {},
     "output_type": "execute_result"
    }
   ],
   "source": [
    "type(s1)"
   ]
  },
  {
   "cell_type": "code",
   "execution_count": 62,
   "id": "c6221618",
   "metadata": {},
   "outputs": [],
   "source": [
    "s1.add('Hello')"
   ]
  },
  {
   "cell_type": "code",
   "execution_count": 63,
   "id": "fe26fb45",
   "metadata": {},
   "outputs": [
    {
     "data": {
      "text/plain": [
       "{1, 3.14, 'Hello', 'Spark'}"
      ]
     },
     "execution_count": 63,
     "metadata": {},
     "output_type": "execute_result"
    }
   ],
   "source": [
    "s1"
   ]
  },
  {
   "cell_type": "code",
   "execution_count": 64,
   "id": "8a0dfd0f",
   "metadata": {},
   "outputs": [],
   "source": [
    "s1.add(False)"
   ]
  },
  {
   "cell_type": "code",
   "execution_count": 65,
   "id": "6d56ccf9",
   "metadata": {},
   "outputs": [
    {
     "data": {
      "text/plain": [
       "{1, 3.14, False, 'Hello', 'Spark'}"
      ]
     },
     "execution_count": 65,
     "metadata": {},
     "output_type": "execute_result"
    }
   ],
   "source": [
    "s1"
   ]
  },
  {
   "cell_type": "code",
   "execution_count": 66,
   "id": "8bc62c7c",
   "metadata": {},
   "outputs": [],
   "source": [
    "s1.remove('Hello')"
   ]
  },
  {
   "cell_type": "code",
   "execution_count": 67,
   "id": "210b18b6",
   "metadata": {},
   "outputs": [
    {
     "data": {
      "text/plain": [
       "{1, 3.14, False, 'Spark'}"
      ]
     },
     "execution_count": 67,
     "metadata": {},
     "output_type": "execute_result"
    }
   ],
   "source": [
    "s1"
   ]
  },
  {
   "cell_type": "code",
   "execution_count": 70,
   "id": "82e5caa3",
   "metadata": {},
   "outputs": [],
   "source": [
    "s1.update([10,20.3,53,5+5j])"
   ]
  },
  {
   "cell_type": "code",
   "execution_count": 71,
   "id": "0e144f19",
   "metadata": {},
   "outputs": [
    {
     "data": {
      "text/plain": [
       "{(5+5j), 1, 10, 20.3, 3.14, 53, False, 'Spark'}"
      ]
     },
     "execution_count": 71,
     "metadata": {},
     "output_type": "execute_result"
    }
   ],
   "source": [
    "s1"
   ]
  },
  {
   "cell_type": "code",
   "execution_count": 73,
   "id": "1ccac2cd",
   "metadata": {},
   "outputs": [],
   "source": [
    "s2={30,3.2222,\"Hello\",False}"
   ]
  },
  {
   "cell_type": "code",
   "execution_count": 74,
   "id": "fecd7868",
   "metadata": {},
   "outputs": [
    {
     "data": {
      "text/plain": [
       "{False}"
      ]
     },
     "execution_count": 74,
     "metadata": {},
     "output_type": "execute_result"
    }
   ],
   "source": [
    "s1.intersection(s2)"
   ]
  },
  {
   "cell_type": "code",
   "execution_count": 6,
   "id": "c6f453ec",
   "metadata": {},
   "outputs": [
    {
     "name": "stdout",
     "output_type": "stream",
     "text": [
      "z is not in s1\n"
     ]
    }
   ],
   "source": [
    "s1=('a','d','c')\n",
    "if 'z' in s1:\n",
    "    print('z is in s1')\n",
    "else:\n",
    "    print('z is not in s1')"
   ]
  },
  {
   "cell_type": "code",
   "execution_count": 7,
   "id": "ce99cfcc",
   "metadata": {},
   "outputs": [],
   "source": [
    "def hello():\n",
    "    print('Hello World')"
   ]
  },
  {
   "cell_type": "code",
   "execution_count": 8,
   "id": "4d5a3026",
   "metadata": {},
   "outputs": [
    {
     "name": "stdout",
     "output_type": "stream",
     "text": [
      "Hello World\n"
     ]
    }
   ],
   "source": [
    "hello()"
   ]
  },
  {
   "cell_type": "code",
   "execution_count": 9,
   "id": "d82d38df",
   "metadata": {},
   "outputs": [],
   "source": [
    "g=lambda x:x*x*x\n"
   ]
  },
  {
   "cell_type": "code",
   "execution_count": 10,
   "id": "3f6ee790",
   "metadata": {},
   "outputs": [
    {
     "data": {
      "text/plain": [
       "343"
      ]
     },
     "execution_count": 10,
     "metadata": {},
     "output_type": "execute_result"
    }
   ],
   "source": [
    "g(7)"
   ]
  },
  {
   "cell_type": "code",
   "execution_count": 14,
   "id": "c085dd17",
   "metadata": {},
   "outputs": [],
   "source": [
    "l1=[87,56,90,34,67,98]\n",
    "final_list=list(filter(lambda x: (x%2!=0),l1))"
   ]
  },
  {
   "cell_type": "code",
   "execution_count": 15,
   "id": "c62a75fb",
   "metadata": {},
   "outputs": [
    {
     "data": {
      "text/plain": [
       "[87, 67]"
      ]
     },
     "execution_count": 15,
     "metadata": {},
     "output_type": "execute_result"
    }
   ],
   "source": [
    "final_list"
   ]
  },
  {
   "cell_type": "code",
   "execution_count": 16,
   "id": "e39de130",
   "metadata": {},
   "outputs": [],
   "source": [
    "l2=[1,2,3,4,5,6,7,8,9]\n",
    "new_list=list(map(lambda x: (x*2),l2))"
   ]
  },
  {
   "cell_type": "code",
   "execution_count": 17,
   "id": "9bb2edc0",
   "metadata": {},
   "outputs": [
    {
     "data": {
      "text/plain": [
       "[2, 4, 6, 8, 10, 12, 14, 16, 18]"
      ]
     },
     "execution_count": 17,
     "metadata": {},
     "output_type": "execute_result"
    }
   ],
   "source": [
    "new_list"
   ]
  },
  {
   "cell_type": "code",
   "execution_count": 18,
   "id": "bc637b6e",
   "metadata": {},
   "outputs": [],
   "source": [
    "from functools import reduce"
   ]
  },
  {
   "cell_type": "code",
   "execution_count": 24,
   "id": "3f462858",
   "metadata": {},
   "outputs": [],
   "source": [
    "sum=(reduce(lambda x,y: (x+y),new_list))"
   ]
  },
  {
   "cell_type": "code",
   "execution_count": 25,
   "id": "e661cf69",
   "metadata": {},
   "outputs": [
    {
     "data": {
      "text/plain": [
       "90"
      ]
     },
     "execution_count": 25,
     "metadata": {},
     "output_type": "execute_result"
    }
   ],
   "source": [
    "sum"
   ]
  },
  {
   "cell_type": "code",
   "execution_count": 30,
   "id": "f0c32b79",
   "metadata": {},
   "outputs": [],
   "source": [
    "class Phone:\n",
    "    def set_color(self,color):\n",
    "        self.color=color\n",
    "        \n",
    "    def set_cost(self,cost):\n",
    "        self.cost=cost\n",
    "        \n",
    "    def show_color(self):\n",
    "        return self.color\n",
    "    \n",
    "    def show_cost(self):\n",
    "        return self.cost\n",
    "    \n",
    "    def make_call(self):\n",
    "        print(\"Make call\")\n",
    "        \n",
    "    def play_games(self):\n",
    "        print(\"play games\")"
   ]
  },
  {
   "cell_type": "code",
   "execution_count": 38,
   "id": "a8f182dd",
   "metadata": {},
   "outputs": [],
   "source": [
    "p1=Phone()\n",
    "p1.set_color(\"blue\")\n",
    "p1.set_cost(50000)"
   ]
  },
  {
   "cell_type": "code",
   "execution_count": 40,
   "id": "cebcff99",
   "metadata": {},
   "outputs": [
    {
     "data": {
      "text/plain": [
       "'blue'"
      ]
     },
     "execution_count": 40,
     "metadata": {},
     "output_type": "execute_result"
    }
   ],
   "source": [
    "p1.show_color()"
   ]
  },
  {
   "cell_type": "code",
   "execution_count": 41,
   "id": "ddfd8f50",
   "metadata": {},
   "outputs": [
    {
     "data": {
      "text/plain": [
       "50000"
      ]
     },
     "execution_count": 41,
     "metadata": {},
     "output_type": "execute_result"
    }
   ],
   "source": [
    "p1.show_cost()"
   ]
  },
  {
   "cell_type": "code",
   "execution_count": 46,
   "id": "896f1d4b",
   "metadata": {},
   "outputs": [],
   "source": [
    "class Employee:\n",
    "    def __init__(self,name,age,salary,gender):\n",
    "        self.name=name\n",
    "        self.age=age\n",
    "        self.salary=salary\n",
    "        self.gender=gender\n",
    "    \n",
    "    def employee_details(self):\n",
    "        print(\"Name of employee is\",self.name)\n",
    "        print(\"Age of employee is\",self.age)\n",
    "        print(\"Salary of employee is\",self.salary)\n",
    "        print(\"Gender of employee is\",self.gender)                "
   ]
  },
  {
   "cell_type": "code",
   "execution_count": 47,
   "id": "8d547cd5",
   "metadata": {},
   "outputs": [],
   "source": [
    "e1=Employee('Sam',32,1500000,'Male')"
   ]
  },
  {
   "cell_type": "code",
   "execution_count": 48,
   "id": "ae2215bc",
   "metadata": {},
   "outputs": [
    {
     "name": "stdout",
     "output_type": "stream",
     "text": [
      "Name of employee is Sam\n",
      "Age of employee is 32\n",
      "Salary of employee is 1500000\n",
      "Gender of employee is Male\n"
     ]
    }
   ],
   "source": [
    "e1.employee_details()"
   ]
  },
  {
   "cell_type": "code",
   "execution_count": 73,
   "id": "6a9abc1c",
   "metadata": {},
   "outputs": [],
   "source": [
    "class Vehicle:\n",
    "    def __init__(self,mileage,cost):\n",
    "        self.mileage = mileage\n",
    "        self.cost = cost\n",
    "        \n",
    "    def show_details(self):\n",
    "        print(\"I am a Vehicle\")\n",
    "        print(\"Mileage of vehicle is\",self.mileage)\n",
    "        print(\"Cost of vehicle is\",self.cost)"
   ]
  },
  {
   "cell_type": "code",
   "execution_count": 74,
   "id": "a1657f3e",
   "metadata": {},
   "outputs": [
    {
     "name": "stdout",
     "output_type": "stream",
     "text": [
      "I am a Vehicle\n",
      "Mileage of vehicle is 500\n",
      "Cost of vehicle is 7000\n"
     ]
    }
   ],
   "source": [
    "v1=Vehicle(500,7000)\n",
    "v1.show_details()"
   ]
  },
  {
   "cell_type": "code",
   "execution_count": 81,
   "id": "5073dc77",
   "metadata": {},
   "outputs": [],
   "source": [
    "class Car(Vehicle):\n",
    "    def __init__(self,mileage,cost,tyres,hp):\n",
    "        super().__init__(mileage,cost)\n",
    "        self.tyres=tyres\n",
    "        self.hp=hp\n",
    "    \n",
    "    def show_car(self):\n",
    "        print(\"I am a car\")\n",
    "        print(\"Number of tyres are\",self.tyres)\n",
    "        print(\"Valu of Horse power is\",self.hp)"
   ]
  },
  {
   "cell_type": "code",
   "execution_count": 83,
   "id": "d9866aa8",
   "metadata": {},
   "outputs": [
    {
     "name": "stdout",
     "output_type": "stream",
     "text": [
      "I am a car\n",
      "Number of tyres are 5\n",
      "Valu of Horse power is 500\n"
     ]
    }
   ],
   "source": [
    "c1 = Car(200,40000,5,500)\n",
    "c1.show_car()"
   ]
  },
  {
   "cell_type": "code",
   "execution_count": 72,
   "id": "9afc855a",
   "metadata": {},
   "outputs": [
    {
     "name": "stdout",
     "output_type": "stream",
     "text": [
      "I am a Vehicle\n",
      "Mileage of vehicle is 200\n",
      "Cost of vehicle is 4000\n"
     ]
    }
   ],
   "source": [
    "c1.show_details()"
   ]
  },
  {
   "cell_type": "code",
   "execution_count": 68,
   "id": "e25fbf1c",
   "metadata": {},
   "outputs": [
    {
     "name": "stdout",
     "output_type": "stream",
     "text": [
      "I am a car\n"
     ]
    }
   ],
   "source": [
    "c1.show_car()"
   ]
  },
  {
   "cell_type": "code",
   "execution_count": 3,
   "id": "ab47cf0d",
   "metadata": {},
   "outputs": [
    {
     "data": {
      "text/plain": [
       "array([10, 20, 30, 40])"
      ]
     },
     "execution_count": 3,
     "metadata": {},
     "output_type": "execute_result"
    }
   ],
   "source": [
    "import numpy as np\n",
    "n1=np.array([10,20,30,40])\n",
    "n1"
   ]
  },
  {
   "cell_type": "code",
   "execution_count": 4,
   "id": "72313cb6",
   "metadata": {},
   "outputs": [
    {
     "data": {
      "text/plain": [
       "array([[10, 20, 30, 40],\n",
       "       [40, 30, 20, 10]])"
      ]
     },
     "execution_count": 4,
     "metadata": {},
     "output_type": "execute_result"
    }
   ],
   "source": [
    "n2=np.array([[10,20,30,40],[40,30,20,10]])\n",
    "n2"
   ]
  },
  {
   "cell_type": "code",
   "execution_count": 5,
   "id": "e2a0a5fb",
   "metadata": {},
   "outputs": [
    {
     "data": {
      "text/plain": [
       "numpy.ndarray"
      ]
     },
     "execution_count": 5,
     "metadata": {},
     "output_type": "execute_result"
    }
   ],
   "source": [
    "type(n1)"
   ]
  },
  {
   "cell_type": "code",
   "execution_count": 6,
   "id": "14b25287",
   "metadata": {},
   "outputs": [
    {
     "data": {
      "text/plain": [
       "numpy.ndarray"
      ]
     },
     "execution_count": 6,
     "metadata": {},
     "output_type": "execute_result"
    }
   ],
   "source": [
    "type(n2)"
   ]
  },
  {
   "cell_type": "code",
   "execution_count": 7,
   "id": "9734e4ed",
   "metadata": {},
   "outputs": [
    {
     "data": {
      "text/plain": [
       "array([[0., 0., 0., 0., 0.],\n",
       "       [0., 0., 0., 0., 0.],\n",
       "       [0., 0., 0., 0., 0.],\n",
       "       [0., 0., 0., 0., 0.],\n",
       "       [0., 0., 0., 0., 0.]])"
      ]
     },
     "execution_count": 7,
     "metadata": {},
     "output_type": "execute_result"
    }
   ],
   "source": [
    "n0=np.zeros((5,5))\n",
    "n0"
   ]
  },
  {
   "cell_type": "code",
   "execution_count": 8,
   "id": "59b6c7f8",
   "metadata": {},
   "outputs": [
    {
     "data": {
      "text/plain": [
       "array([[100, 100, 100, 100, 100, 100, 100, 100, 100],\n",
       "       [100, 100, 100, 100, 100, 100, 100, 100, 100],\n",
       "       [100, 100, 100, 100, 100, 100, 100, 100, 100],\n",
       "       [100, 100, 100, 100, 100, 100, 100, 100, 100],\n",
       "       [100, 100, 100, 100, 100, 100, 100, 100, 100],\n",
       "       [100, 100, 100, 100, 100, 100, 100, 100, 100],\n",
       "       [100, 100, 100, 100, 100, 100, 100, 100, 100],\n",
       "       [100, 100, 100, 100, 100, 100, 100, 100, 100]])"
      ]
     },
     "execution_count": 8,
     "metadata": {},
     "output_type": "execute_result"
    }
   ],
   "source": [
    "nf=np.full((8,9),100)\n",
    "nf"
   ]
  },
  {
   "cell_type": "code",
   "execution_count": 9,
   "id": "31eaed18",
   "metadata": {},
   "outputs": [
    {
     "data": {
      "text/plain": [
       "array([10, 11, 12, 13, 14, 15, 16, 17, 18, 19, 20, 21, 22, 23, 24])"
      ]
     },
     "execution_count": 9,
     "metadata": {},
     "output_type": "execute_result"
    }
   ],
   "source": [
    "nr=np.arange(10,25)\n",
    "nr"
   ]
  },
  {
   "cell_type": "code",
   "execution_count": 10,
   "id": "b8453bc5",
   "metadata": {},
   "outputs": [
    {
     "data": {
      "text/plain": [
       "array([10, 12, 14, 16, 18, 20, 22, 24])"
      ]
     },
     "execution_count": 10,
     "metadata": {},
     "output_type": "execute_result"
    }
   ],
   "source": [
    "nrfi=np.arange(10,25,2)\n",
    "nrfi"
   ]
  },
  {
   "cell_type": "code",
   "execution_count": 11,
   "id": "b6a820f5",
   "metadata": {},
   "outputs": [
    {
     "data": {
      "text/plain": [
       "array([12, 98, 44, 60, 23, 59, 72, 54, 69, 74])"
      ]
     },
     "execution_count": 11,
     "metadata": {},
     "output_type": "execute_result"
    }
   ],
   "source": [
    "nrdm=np.random.randint(1,100,10)\n",
    "nrdm"
   ]
  },
  {
   "cell_type": "code",
   "execution_count": 15,
   "id": "186923c0",
   "metadata": {},
   "outputs": [
    {
     "data": {
      "text/plain": [
       "(2, 4)"
      ]
     },
     "execution_count": 15,
     "metadata": {},
     "output_type": "execute_result"
    }
   ],
   "source": [
    "nshp=np.array([[1,2,3,4],[4,5,6,7]])\n",
    "nshp.shape"
   ]
  },
  {
   "cell_type": "code",
   "execution_count": 16,
   "id": "5e6cbbea",
   "metadata": {},
   "outputs": [],
   "source": [
    "nshp.shape=(4,2)"
   ]
  },
  {
   "cell_type": "code",
   "execution_count": 20,
   "id": "775e0892",
   "metadata": {},
   "outputs": [],
   "source": [
    "nshp.shape=(8,1)"
   ]
  },
  {
   "cell_type": "code",
   "execution_count": 21,
   "id": "5fcce8d0",
   "metadata": {},
   "outputs": [
    {
     "data": {
      "text/plain": [
       "array([[1],\n",
       "       [2],\n",
       "       [3],\n",
       "       [4],\n",
       "       [4],\n",
       "       [5],\n",
       "       [6],\n",
       "       [7]])"
      ]
     },
     "execution_count": 21,
     "metadata": {},
     "output_type": "execute_result"
    }
   ],
   "source": [
    "nshp"
   ]
  },
  {
   "cell_type": "code",
   "execution_count": 23,
   "id": "16f7ca38",
   "metadata": {},
   "outputs": [
    {
     "data": {
      "text/plain": [
       "array([[10, 20, 30],\n",
       "       [40, 50, 60]])"
      ]
     },
     "execution_count": 23,
     "metadata": {},
     "output_type": "execute_result"
    }
   ],
   "source": [
    "na=np.array([10,20,30])\n",
    "nb=np.array([40,50,60])\n",
    "np.vstack((na,nb))"
   ]
  },
  {
   "cell_type": "code",
   "execution_count": 24,
   "id": "f453c68c",
   "metadata": {},
   "outputs": [
    {
     "data": {
      "text/plain": [
       "array([10, 20, 30, 40, 50, 60])"
      ]
     },
     "execution_count": 24,
     "metadata": {},
     "output_type": "execute_result"
    }
   ],
   "source": [
    "np.hstack((na,nb))"
   ]
  },
  {
   "cell_type": "code",
   "execution_count": 25,
   "id": "f041dca8",
   "metadata": {},
   "outputs": [
    {
     "data": {
      "text/plain": [
       "array([[10, 40],\n",
       "       [20, 50],\n",
       "       [30, 60]])"
      ]
     },
     "execution_count": 25,
     "metadata": {},
     "output_type": "execute_result"
    }
   ],
   "source": [
    "np.column_stack((na,nb))"
   ]
  },
  {
   "cell_type": "code",
   "execution_count": 26,
   "id": "e2dcb1a8",
   "metadata": {},
   "outputs": [
    {
     "data": {
      "text/plain": [
       "array([50, 60, 70])"
      ]
     },
     "execution_count": 26,
     "metadata": {},
     "output_type": "execute_result"
    }
   ],
   "source": [
    "nc=np.array([10,20,30,40,50,60,70])\n",
    "nd=np.array([50,60,70,80,90])\n",
    "\n",
    "np.intersect1d(nc,nd)"
   ]
  },
  {
   "cell_type": "code",
   "execution_count": 27,
   "id": "221aa246",
   "metadata": {},
   "outputs": [
    {
     "data": {
      "text/plain": [
       "array([10, 20, 30, 40])"
      ]
     },
     "execution_count": 27,
     "metadata": {},
     "output_type": "execute_result"
    }
   ],
   "source": [
    "np.setdiff1d(nc,nd)"
   ]
  },
  {
   "cell_type": "code",
   "execution_count": 28,
   "id": "03b0890e",
   "metadata": {},
   "outputs": [
    {
     "data": {
      "text/plain": [
       "array([80, 90])"
      ]
     },
     "execution_count": 28,
     "metadata": {},
     "output_type": "execute_result"
    }
   ],
   "source": [
    "np.setdiff1d(nd,nc)"
   ]
  },
  {
   "cell_type": "code",
   "execution_count": 31,
   "id": "8da3ef74",
   "metadata": {},
   "outputs": [
    {
     "data": {
      "text/plain": [
       "array([50, 70, 90])"
      ]
     },
     "execution_count": 31,
     "metadata": {},
     "output_type": "execute_result"
    }
   ],
   "source": [
    "ne=np.array([10,20,30])\n",
    "nf=np.array([40,50,60])\n",
    "\n",
    "np.sum([ne,nf])"
   ]
  },
  {
   "cell_type": "code",
   "execution_count": 32,
   "id": "a327b443",
   "metadata": {},
   "outputs": [
    {
     "data": {
      "text/plain": [
       "array([50, 70, 90])"
      ]
     },
     "execution_count": 32,
     "metadata": {},
     "output_type": "execute_result"
    }
   ],
   "source": [
    "np.sum([ne,nf],axis=0)"
   ]
  },
  {
   "cell_type": "code",
   "execution_count": 33,
   "id": "7f9897d4",
   "metadata": {},
   "outputs": [
    {
     "data": {
      "text/plain": [
       "array([ 60, 150])"
      ]
     },
     "execution_count": 33,
     "metadata": {},
     "output_type": "execute_result"
    }
   ],
   "source": [
    "np.sum([ne,nf],axis=1)"
   ]
  },
  {
   "cell_type": "code",
   "execution_count": 34,
   "id": "3fc8659c",
   "metadata": {},
   "outputs": [
    {
     "data": {
      "text/plain": [
       "array([20, 30, 40])"
      ]
     },
     "execution_count": 34,
     "metadata": {},
     "output_type": "execute_result"
    }
   ],
   "source": [
    "ng=np.array([10,20,30])\n",
    "ng=ng+10\n",
    "ng"
   ]
  },
  {
   "cell_type": "code",
   "execution_count": 35,
   "id": "4927a194",
   "metadata": {},
   "outputs": [
    {
     "data": {
      "text/plain": [
       "array([15, 25, 35])"
      ]
     },
     "execution_count": 35,
     "metadata": {},
     "output_type": "execute_result"
    }
   ],
   "source": [
    "ng=ng-5\n",
    "ng"
   ]
  },
  {
   "cell_type": "code",
   "execution_count": 36,
   "id": "17c3913c",
   "metadata": {},
   "outputs": [
    {
     "data": {
      "text/plain": [
       "array([30, 50, 70])"
      ]
     },
     "execution_count": 36,
     "metadata": {},
     "output_type": "execute_result"
    }
   ],
   "source": [
    "ng=ng*2\n",
    "ng"
   ]
  },
  {
   "cell_type": "code",
   "execution_count": 37,
   "id": "950ef01b",
   "metadata": {},
   "outputs": [
    {
     "data": {
      "text/plain": [
       "array([3., 5., 7.])"
      ]
     },
     "execution_count": 37,
     "metadata": {},
     "output_type": "execute_result"
    }
   ],
   "source": [
    "ng=ng/10\n",
    "ng"
   ]
  },
  {
   "cell_type": "code",
   "execution_count": 60,
   "id": "04753968",
   "metadata": {},
   "outputs": [
    {
     "data": {
      "text/plain": [
       "33.5"
      ]
     },
     "execution_count": 60,
     "metadata": {},
     "output_type": "execute_result"
    }
   ],
   "source": [
    "nh=([10,20,30,55,60,40,70,80])\n",
    "ni=np.random.randint(1,50,10)\n",
    "np.mean(nh)\n",
    "np.mean(ni)"
   ]
  },
  {
   "cell_type": "code",
   "execution_count": 61,
   "id": "4966ef41",
   "metadata": {},
   "outputs": [
    {
     "data": {
      "text/plain": [
       "47.5"
      ]
     },
     "execution_count": 61,
     "metadata": {},
     "output_type": "execute_result"
    }
   ],
   "source": [
    "np.median(nh)"
   ]
  },
  {
   "cell_type": "code",
   "execution_count": 62,
   "id": "37de97d6",
   "metadata": {},
   "outputs": [
    {
     "data": {
      "text/plain": [
       "23.10810193417019"
      ]
     },
     "execution_count": 62,
     "metadata": {},
     "output_type": "execute_result"
    }
   ],
   "source": [
    "np.std(nh)"
   ]
  },
  {
   "cell_type": "code",
   "execution_count": 63,
   "id": "e8d76e2d",
   "metadata": {},
   "outputs": [],
   "source": [
    "np.save('my_numpy',ni)"
   ]
  },
  {
   "cell_type": "code",
   "execution_count": 64,
   "id": "95010443",
   "metadata": {},
   "outputs": [],
   "source": [
    "nj=np.load('my_numpy.npy')"
   ]
  },
  {
   "cell_type": "code",
   "execution_count": 65,
   "id": "7f14bb48",
   "metadata": {},
   "outputs": [
    {
     "data": {
      "text/plain": [
       "array([48, 10, 31, 32, 36, 41, 41, 39, 15, 42])"
      ]
     },
     "execution_count": 65,
     "metadata": {},
     "output_type": "execute_result"
    }
   ],
   "source": [
    "nj"
   ]
  },
  {
   "cell_type": "code",
   "execution_count": null,
   "id": "a7cab188",
   "metadata": {},
   "outputs": [],
   "source": []
  }
 ],
 "metadata": {
  "kernelspec": {
   "display_name": "Python 3 (ipykernel)",
   "language": "python",
   "name": "python3"
  },
  "language_info": {
   "codemirror_mode": {
    "name": "ipython",
    "version": 3
   },
   "file_extension": ".py",
   "mimetype": "text/x-python",
   "name": "python",
   "nbconvert_exporter": "python",
   "pygments_lexer": "ipython3",
   "version": "3.9.7"
  }
 },
 "nbformat": 4,
 "nbformat_minor": 5
}
